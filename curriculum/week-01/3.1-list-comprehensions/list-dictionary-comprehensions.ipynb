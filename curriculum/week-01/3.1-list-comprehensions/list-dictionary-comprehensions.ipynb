{
 "cells": [
  {
   "cell_type": "markdown",
   "metadata": {},
   "source": [
    "<img src=\"http://imgur.com/1ZcRyrc.png\" style=\"float: left; margin: 15px; height: 80px\">\n",
    "\n",
    "# List and dictionary comprehensions\n",
    "\n",
    "Week 1 | Lesson 3.1\n",
    "\n",
    "---\n",
    "\n",
    "This codealong covers the essentials of performing list and dictionary comprehensions in python.\n",
    "\n",
    "---\n",
    "\n",
    "### Section 1: Basic list comprehensions"
   ]
  },
  {
   "cell_type": "code",
   "execution_count": 1,
   "metadata": {
    "collapsed": true
   },
   "outputs": [],
   "source": [
    "import numpy as np\n",
    "import string"
   ]
  },
  {
   "cell_type": "markdown",
   "metadata": {},
   "source": [
    "##### 1-A) Add 1 to every element in the list"
   ]
  },
  {
   "cell_type": "code",
   "execution_count": 3,
   "metadata": {
    "collapsed": false
   },
   "outputs": [],
   "source": [
    "numbers = [0,1,2,3,4,5,6,7,8,9]\n",
    "\n",
    "# for-loop version:"
   ]
  },
  {
   "cell_type": "code",
   "execution_count": 6,
   "metadata": {
    "collapsed": false
   },
   "outputs": [
    {
     "ename": "SyntaxError",
     "evalue": "invalid syntax (<ipython-input-6-51f266c36ac6>, line 2)",
     "output_type": "error",
     "traceback": [
      "\u001b[0;36m  File \u001b[0;32m\"<ipython-input-6-51f266c36ac6>\"\u001b[0;36m, line \u001b[0;32m2\u001b[0m\n\u001b[0;31m    new_num = [(if num > 5:\u001b[0m\n\u001b[0m                 ^\u001b[0m\n\u001b[0;31mSyntaxError\u001b[0m\u001b[0;31m:\u001b[0m invalid syntax\n"
     ]
    }
   ],
   "source": [
    "# list comprehension version\n",
    "new_num = [(if num > 5: \n",
    "                num+1) for num in numbers]\n",
    "print new_num"
   ]
  },
  {
   "cell_type": "markdown",
   "metadata": {},
   "source": [
    "#### Section 2: List comprehension conditional logic\n",
    "\n",
    "##### 2-A) \"Binarize\" n so that any value greater than or equal to the mean of n is 1, otherwise 0"
   ]
  },
  {
   "cell_type": "code",
   "execution_count": 25,
   "metadata": {
    "collapsed": true
   },
   "outputs": [],
   "source": [
    "n = [1, 2, 7, 21, 3, 1, 62, 3, 34, 12, 73, 44, 12, 11, 9]"
   ]
  },
  {
   "cell_type": "code",
   "execution_count": 21,
   "metadata": {
    "collapsed": false
   },
   "outputs": [
    {
     "name": "stdout",
     "output_type": "stream",
     "text": [
      "[0, 0, 0, 1, 0, 0, 1, 0, 1, 0, 1, 1, 0, 0, 0]\n"
     ]
    }
   ],
   "source": [
    "# for loop\n",
    "newn = []\n",
    "meann = float(sum(n))/len(n)\n",
    "for x in range(len(n)) :\n",
    "    if n[x] >= meann :\n",
    "        n[x] = 1\n",
    "    else :\n",
    "        n[x] = 0\n",
    "    newn.append(n[x])\n",
    "print newn\n"
   ]
  },
  {
   "cell_type": "code",
   "execution_count": 27,
   "metadata": {
    "collapsed": false
   },
   "outputs": [
    {
     "name": "stdout",
     "output_type": "stream",
     "text": [
      "1 1\n",
      "1 2\n",
      "1 7\n",
      "1 21\n",
      "1 3\n",
      "1 1\n",
      "1 62\n",
      "1 3\n",
      "1 34\n",
      "1 12\n",
      "1 73\n",
      "1 44\n",
      "1 12\n",
      "1 11\n",
      "1 9\n",
      "[0, 0, 0, 1, 0, 0, 1, 0, 1, 0, 1, 1, 0, 0, 0]\n"
     ]
    }
   ],
   "source": [
    "mean_n = float(sum(n))/len(n)\n",
    "new_n = []\n",
    "for i,item in enumerate(n) :\n",
    "    print 1,item\n",
    "    if item >= mean_n :\n",
    "        new_n.append(1)\n",
    "    else :\n",
    "        new_n.append(0)\n",
    "print new_n"
   ]
  },
  {
   "cell_type": "code",
   "execution_count": 33,
   "metadata": {
    "collapsed": false
   },
   "outputs": [
    {
     "name": "stdout",
     "output_type": "stream",
     "text": [
      "[0, 1, 1, 0, 1, 0]\n"
     ]
    }
   ],
   "source": [
    "# list comprehension\n",
    "meann = sum(n)/len(n)\n",
    "new_n = [1 if num >= meann else 0 for num in n if num % 2 ==0\n",
    "] \n",
    "print new_n"
   ]
  },
  {
   "cell_type": "markdown",
   "metadata": {},
   "source": [
    "##### 2-B) Swap 1s to 0s and 0s to 1s. If the element is neither a 0 nor 1, make it None"
   ]
  },
  {
   "cell_type": "code",
   "execution_count": 35,
   "metadata": {
    "collapsed": true
   },
   "outputs": [],
   "source": [
    "n = [0, 1, 0, 1, 2, 3, 5, 2, 1, 0]"
   ]
  },
  {
   "cell_type": "code",
   "execution_count": 37,
   "metadata": {
    "collapsed": false
   },
   "outputs": [
    {
     "name": "stdout",
     "output_type": "stream",
     "text": [
      "[1, 0, 1, 0, None, None, None, None, 0, 1]\n"
     ]
    }
   ],
   "source": [
    "# for loop\n",
    "new_n = []\n",
    "for x in n :\n",
    "    if x == 0 :\n",
    "        new_n.append(1)\n",
    "    elif x == 1 :\n",
    "        new_n.append(0)\n",
    "    else :\n",
    "        new_n.append((None))\n",
    "print new_n"
   ]
  },
  {
   "cell_type": "code",
   "execution_count": 39,
   "metadata": {
    "collapsed": false
   },
   "outputs": [
    {
     "name": "stdout",
     "output_type": "stream",
     "text": [
      "[1, 0, 1, 0, None, None, None, None, 0, 1]\n"
     ]
    }
   ],
   "source": [
    "# list comprehension\n",
    "new_n = [0 if x ==1 else 1 if x == 0 else None for x in n]\n",
    "print new_n"
   ]
  },
  {
   "cell_type": "markdown",
   "metadata": {},
   "source": [
    "#### Section 3: Nested list comprehensions\n",
    "\n",
    "##### 3-A) Get the square and square root of all non-negative numbers in the list"
   ]
  },
  {
   "cell_type": "code",
   "execution_count": 40,
   "metadata": {
    "collapsed": true
   },
   "outputs": [],
   "source": [
    "n = [0, 1, 50, -23, -1, 75, -3]"
   ]
  },
  {
   "cell_type": "code",
   "execution_count": 49,
   "metadata": {
    "collapsed": false
   },
   "outputs": [
    {
     "name": "stdout",
     "output_type": "stream",
     "text": [
      "[[0, 0.0], [1, 1.0], [2500, 7.0710678118654755], [5625, 8.660254037844387]]\n"
     ]
    }
   ],
   "source": [
    "# for loop\n",
    "new_n = []\n",
    "for x in n :\n",
    "    if x >= 0 :\n",
    "        new_n.append([x**2, x**0.5])\n",
    "print new_n\n"
   ]
  },
  {
   "cell_type": "code",
   "execution_count": 51,
   "metadata": {
    "collapsed": false
   },
   "outputs": [
    {
     "name": "stdout",
     "output_type": "stream",
     "text": [
      "[[0, 0.0], [1, 1.0], [2500, 7.0710678118654755], [5625, 8.660254037844387]]\n"
     ]
    }
   ],
   "source": [
    "# list comprehension\n",
    "new_n = [[x**2,x**0.5] for x in n if x>=0]\n",
    "print new_n"
   ]
  },
  {
   "cell_type": "code",
   "execution_count": 52,
   "metadata": {
    "collapsed": false
   },
   "outputs": [
    {
     "data": {
      "text/plain": [
       "[['even'],\n",
       " ['even', 'odd'],\n",
       " ['even', 'odd', 'even'],\n",
       " ['even', 'odd', 'even', 'odd'],\n",
       " ['even', 'odd', 'even', 'odd', 'even'],\n",
       " ['even', 'odd', 'even', 'odd', 'even', 'odd'],\n",
       " ['even', 'odd', 'even', 'odd', 'even', 'odd', 'even'],\n",
       " ['even', 'odd', 'even', 'odd', 'even', 'odd', 'even', 'odd'],\n",
       " ['even', 'odd', 'even', 'odd', 'even', 'odd', 'even', 'odd', 'even']]"
      ]
     },
     "execution_count": 52,
     "metadata": {},
     "output_type": "execute_result"
    }
   ],
   "source": [
    "nested = []\n",
    "for y in range(1,10) :\n",
    "    sublist = []\n",
    "    for x in range(y) :\n",
    "        if x % 2 == 0 :\n",
    "            sublist.append('even')\n",
    "        else :\n",
    "            sublist.append('odd')\n",
    "    nested.append(sublist)\n",
    "nested"
   ]
  },
  {
   "cell_type": "code",
   "execution_count": 53,
   "metadata": {
    "collapsed": false
   },
   "outputs": [
    {
     "data": {
      "text/plain": [
       "[['even'],\n",
       " ['even', 'odd'],\n",
       " ['even', 'odd', 'even'],\n",
       " ['even', 'odd', 'even', 'odd'],\n",
       " ['even', 'odd', 'even', 'odd', 'even'],\n",
       " ['even', 'odd', 'even', 'odd', 'even', 'odd'],\n",
       " ['even', 'odd', 'even', 'odd', 'even', 'odd', 'even'],\n",
       " ['even', 'odd', 'even', 'odd', 'even', 'odd', 'even', 'odd'],\n",
       " ['even', 'odd', 'even', 'odd', 'even', 'odd', 'even', 'odd', 'even']]"
      ]
     },
     "execution_count": 53,
     "metadata": {},
     "output_type": "execute_result"
    }
   ],
   "source": [
    "nested = [\n",
    "    ['even' if x % 2 == 0 else 'odd' for x in range(y)]\n",
    "    for y in range(1,10)\n",
    "]\n",
    "nested"
   ]
  },
  {
   "cell_type": "markdown",
   "metadata": {},
   "source": [
    "#### Section 4: Functions in list comprehensions\n",
    "\n",
    "##### 4-A) Combine elements of these two lists item by item into list pairs"
   ]
  },
  {
   "cell_type": "code",
   "execution_count": 55,
   "metadata": {
    "collapsed": true
   },
   "outputs": [],
   "source": [
    "a = ['a','b','c','d']\n",
    "z = ['z','y','x','w']"
   ]
  },
  {
   "cell_type": "code",
   "execution_count": 56,
   "metadata": {
    "collapsed": false
   },
   "outputs": [
    {
     "name": "stdout",
     "output_type": "stream",
     "text": [
      "a z\n",
      "b y\n",
      "c x\n",
      "d w\n"
     ]
    }
   ],
   "source": [
    "# for loop\n",
    "for a_item,z_item in zip (a,z) :\n",
    "    print a_item,z_item"
   ]
  },
  {
   "cell_type": "code",
   "execution_count": 62,
   "metadata": {
    "collapsed": false
   },
   "outputs": [
    {
     "data": {
      "text/plain": [
       "['az', 'by', 'cx', 'dw']"
      ]
     },
     "execution_count": 62,
     "metadata": {},
     "output_type": "execute_result"
    }
   ],
   "source": [
    "# list comprehension\n",
    "[x+y for x,y in zip(a,z)]\n"
   ]
  },
  {
   "cell_type": "code",
   "execution_count": null,
   "metadata": {
    "collapsed": true
   },
   "outputs": [],
   "source": []
  },
  {
   "cell_type": "markdown",
   "metadata": {},
   "source": [
    "##### 4-B) Pair each index and element of this list into list pairs"
   ]
  },
  {
   "cell_type": "code",
   "execution_count": 63,
   "metadata": {
    "collapsed": true
   },
   "outputs": [],
   "source": [
    "a = ['a','b','c','d']"
   ]
  },
  {
   "cell_type": "code",
   "execution_count": 65,
   "metadata": {
    "collapsed": false
   },
   "outputs": [
    {
     "data": {
      "text/plain": [
       "[(0, 'a'), (1, 'b'), (2, 'c'), (3, 'd')]"
      ]
     },
     "execution_count": 65,
     "metadata": {},
     "output_type": "execute_result"
    }
   ],
   "source": [
    "[x for x in enumerate(a)]"
   ]
  },
  {
   "cell_type": "code",
   "execution_count": 64,
   "metadata": {
    "collapsed": false
   },
   "outputs": [
    {
     "data": {
      "text/plain": [
       "[['a', 0], ['b', 1], ['c', 2], ['d', 3]]"
      ]
     },
     "execution_count": 64,
     "metadata": {},
     "output_type": "execute_result"
    }
   ],
   "source": [
    "[[item,a.index(item)] for item in a]"
   ]
  },
  {
   "cell_type": "markdown",
   "metadata": {},
   "source": [
    "##### 4-C) For each element of each list, calculate the first list element times the index divided by the element of the second list"
   ]
  },
  {
   "cell_type": "code",
   "execution_count": 17,
   "metadata": {
    "collapsed": true
   },
   "outputs": [],
   "source": [
    " list_one = [10, 15, 20, 25, 40]\n",
    " list_two = [1, 2, 3, 4, 5]\n"
   ]
  },
  {
   "cell_type": "code",
   "execution_count": 1,
   "metadata": {
    "collapsed": true
   },
   "outputs": [],
   "source": [
    "tup = (1,2)\n"
   ]
  },
  {
   "cell_type": "markdown",
   "metadata": {},
   "source": [
    "#### Section 5: Nested list comprehensions\n",
    "\n",
    "##### 5-A) Create all the alphabet \"syllables\" defined as consonant-vowel pairs in a flattened list [USING FOR LOOP ITERATION]"
   ]
  },
  {
   "cell_type": "code",
   "execution_count": 67,
   "metadata": {
    "collapsed": false
   },
   "outputs": [
    {
     "data": {
      "text/plain": [
       "['ba',\n",
       " 'be',\n",
       " 'bi',\n",
       " 'bo',\n",
       " 'bu',\n",
       " 'ca',\n",
       " 'ce',\n",
       " 'ci',\n",
       " 'co',\n",
       " 'cu',\n",
       " 'da',\n",
       " 'de',\n",
       " 'di',\n",
       " 'do',\n",
       " 'du',\n",
       " 'fa',\n",
       " 'fe',\n",
       " 'fi',\n",
       " 'fo',\n",
       " 'fu',\n",
       " 'ga',\n",
       " 'ge',\n",
       " 'gi',\n",
       " 'go',\n",
       " 'gu',\n",
       " 'ha',\n",
       " 'he',\n",
       " 'hi',\n",
       " 'ho',\n",
       " 'hu',\n",
       " 'ja',\n",
       " 'je',\n",
       " 'ji',\n",
       " 'jo',\n",
       " 'ju',\n",
       " 'ka',\n",
       " 'ke',\n",
       " 'ki',\n",
       " 'ko',\n",
       " 'ku',\n",
       " 'la',\n",
       " 'le',\n",
       " 'li',\n",
       " 'lo',\n",
       " 'lu',\n",
       " 'ma',\n",
       " 'me',\n",
       " 'mi',\n",
       " 'mo',\n",
       " 'mu',\n",
       " 'na',\n",
       " 'ne',\n",
       " 'ni',\n",
       " 'no',\n",
       " 'nu',\n",
       " 'pa',\n",
       " 'pe',\n",
       " 'pi',\n",
       " 'po',\n",
       " 'pu',\n",
       " 'qa',\n",
       " 'qe',\n",
       " 'qi',\n",
       " 'qo',\n",
       " 'qu',\n",
       " 'ra',\n",
       " 're',\n",
       " 'ri',\n",
       " 'ro',\n",
       " 'ru',\n",
       " 'sa',\n",
       " 'se',\n",
       " 'si',\n",
       " 'so',\n",
       " 'su',\n",
       " 'ta',\n",
       " 'te',\n",
       " 'ti',\n",
       " 'to',\n",
       " 'tu',\n",
       " 'va',\n",
       " 've',\n",
       " 'vi',\n",
       " 'vo',\n",
       " 'vu',\n",
       " 'wa',\n",
       " 'we',\n",
       " 'wi',\n",
       " 'wo',\n",
       " 'wu',\n",
       " 'xa',\n",
       " 'xe',\n",
       " 'xi',\n",
       " 'xo',\n",
       " 'xu',\n",
       " 'ya',\n",
       " 'ye',\n",
       " 'yi',\n",
       " 'yo',\n",
       " 'yu',\n",
       " 'za',\n",
       " 'ze',\n",
       " 'zi',\n",
       " 'zo',\n",
       " 'zu']"
      ]
     },
     "execution_count": 67,
     "metadata": {},
     "output_type": "execute_result"
    }
   ],
   "source": [
    "import string\n",
    "vowels = ['a', 'e', 'i', 'o', 'u']\n",
    "alphabet = string.ascii_lowercase\n",
    "result = []\n",
    "for ch in alphabet :\n",
    "    if ch not in vowels :\n",
    "        for v in vowels :\n",
    "            result.append(ch+v)\n",
    "            \n",
    "result"
   ]
  },
  {
   "cell_type": "code",
   "execution_count": 74,
   "metadata": {
    "collapsed": false
   },
   "outputs": [
    {
     "data": {
      "text/plain": [
       "['ba',\n",
       " 'be',\n",
       " 'bi',\n",
       " 'bo',\n",
       " 'bu',\n",
       " 'ca',\n",
       " 'ce',\n",
       " 'ci',\n",
       " 'co',\n",
       " 'cu',\n",
       " 'da',\n",
       " 'de',\n",
       " 'di',\n",
       " 'do',\n",
       " 'du',\n",
       " 'fa',\n",
       " 'fe',\n",
       " 'fi',\n",
       " 'fo',\n",
       " 'fu',\n",
       " 'ga',\n",
       " 'ge',\n",
       " 'gi',\n",
       " 'go',\n",
       " 'gu',\n",
       " 'ha',\n",
       " 'he',\n",
       " 'hi',\n",
       " 'ho',\n",
       " 'hu',\n",
       " 'ja',\n",
       " 'je',\n",
       " 'ji',\n",
       " 'jo',\n",
       " 'ju',\n",
       " 'ka',\n",
       " 'ke',\n",
       " 'ki',\n",
       " 'ko',\n",
       " 'ku',\n",
       " 'la',\n",
       " 'le',\n",
       " 'li',\n",
       " 'lo',\n",
       " 'lu',\n",
       " 'ma',\n",
       " 'me',\n",
       " 'mi',\n",
       " 'mo',\n",
       " 'mu',\n",
       " 'na',\n",
       " 'ne',\n",
       " 'ni',\n",
       " 'no',\n",
       " 'nu',\n",
       " 'pa',\n",
       " 'pe',\n",
       " 'pi',\n",
       " 'po',\n",
       " 'pu',\n",
       " 'qa',\n",
       " 'qe',\n",
       " 'qi',\n",
       " 'qo',\n",
       " 'qu',\n",
       " 'ra',\n",
       " 're',\n",
       " 'ri',\n",
       " 'ro',\n",
       " 'ru',\n",
       " 'sa',\n",
       " 'se',\n",
       " 'si',\n",
       " 'so',\n",
       " 'su',\n",
       " 'ta',\n",
       " 'te',\n",
       " 'ti',\n",
       " 'to',\n",
       " 'tu',\n",
       " 'va',\n",
       " 've',\n",
       " 'vi',\n",
       " 'vo',\n",
       " 'vu',\n",
       " 'wa',\n",
       " 'we',\n",
       " 'wi',\n",
       " 'wo',\n",
       " 'wu',\n",
       " 'xa',\n",
       " 'xe',\n",
       " 'xi',\n",
       " 'xo',\n",
       " 'xu',\n",
       " 'ya',\n",
       " 'ye',\n",
       " 'yi',\n",
       " 'yo',\n",
       " 'yu',\n",
       " 'za',\n",
       " 'ze',\n",
       " 'zi',\n",
       " 'zo',\n",
       " 'zu']"
      ]
     },
     "execution_count": 74,
     "metadata": {},
     "output_type": "execute_result"
    }
   ],
   "source": []
  },
  {
   "cell_type": "markdown",
   "metadata": {},
   "source": [
    "##### 5-B) Create all the alphabet \"syllables\" defined as consonant-vowel pairs in a flattened list [USING A LIST COMPREHENSION]"
   ]
  },
  {
   "cell_type": "code",
   "execution_count": 75,
   "metadata": {
    "collapsed": false
   },
   "outputs": [
    {
     "data": {
      "text/plain": [
       "['ba',\n",
       " 'be',\n",
       " 'bi',\n",
       " 'bo',\n",
       " 'bu',\n",
       " 'ca',\n",
       " 'ce',\n",
       " 'ci',\n",
       " 'co',\n",
       " 'cu',\n",
       " 'da',\n",
       " 'de',\n",
       " 'di',\n",
       " 'do',\n",
       " 'du',\n",
       " 'fa',\n",
       " 'fe',\n",
       " 'fi',\n",
       " 'fo',\n",
       " 'fu',\n",
       " 'ga',\n",
       " 'ge',\n",
       " 'gi',\n",
       " 'go',\n",
       " 'gu',\n",
       " 'ha',\n",
       " 'he',\n",
       " 'hi',\n",
       " 'ho',\n",
       " 'hu',\n",
       " 'ja',\n",
       " 'je',\n",
       " 'ji',\n",
       " 'jo',\n",
       " 'ju',\n",
       " 'ka',\n",
       " 'ke',\n",
       " 'ki',\n",
       " 'ko',\n",
       " 'ku',\n",
       " 'la',\n",
       " 'le',\n",
       " 'li',\n",
       " 'lo',\n",
       " 'lu',\n",
       " 'ma',\n",
       " 'me',\n",
       " 'mi',\n",
       " 'mo',\n",
       " 'mu',\n",
       " 'na',\n",
       " 'ne',\n",
       " 'ni',\n",
       " 'no',\n",
       " 'nu',\n",
       " 'pa',\n",
       " 'pe',\n",
       " 'pi',\n",
       " 'po',\n",
       " 'pu',\n",
       " 'qa',\n",
       " 'qe',\n",
       " 'qi',\n",
       " 'qo',\n",
       " 'qu',\n",
       " 'ra',\n",
       " 're',\n",
       " 'ri',\n",
       " 'ro',\n",
       " 'ru',\n",
       " 'sa',\n",
       " 'se',\n",
       " 'si',\n",
       " 'so',\n",
       " 'su',\n",
       " 'ta',\n",
       " 'te',\n",
       " 'ti',\n",
       " 'to',\n",
       " 'tu',\n",
       " 'va',\n",
       " 've',\n",
       " 'vi',\n",
       " 'vo',\n",
       " 'vu',\n",
       " 'wa',\n",
       " 'we',\n",
       " 'wi',\n",
       " 'wo',\n",
       " 'wu',\n",
       " 'xa',\n",
       " 'xe',\n",
       " 'xi',\n",
       " 'xo',\n",
       " 'xu',\n",
       " 'ya',\n",
       " 'ye',\n",
       " 'yi',\n",
       " 'yo',\n",
       " 'yu',\n",
       " 'za',\n",
       " 'ze',\n",
       " 'zi',\n",
       " 'zo',\n",
       " 'zu']"
      ]
     },
     "execution_count": 75,
     "metadata": {},
     "output_type": "execute_result"
    }
   ],
   "source": [
    "result = [ch+v  for ch in alphabet for v in vowels  if ch not in vowels]\n",
    "result"
   ]
  },
  {
   "cell_type": "markdown",
   "metadata": {},
   "source": [
    "#### Section 6: Dictionary comprehensions\n",
    "\n",
    "##### 6-A) Make a dictionary where keys are animals and values are lists with the number value of each character in the key\n",
    "\n",
    "Hint: use the **ord()** function to convert characters to numbers."
   ]
  },
  {
   "cell_type": "code",
   "execution_count": 19,
   "metadata": {
    "collapsed": true
   },
   "outputs": [],
   "source": [
    "keys = ['dog', 'cat', 'bird', 'horse']"
   ]
  },
  {
   "cell_type": "markdown",
   "metadata": {},
   "source": [
    "##### 6-B) Create a dictionary with these column names and corresponding column values"
   ]
  },
  {
   "cell_type": "code",
   "execution_count": 20,
   "metadata": {
    "collapsed": true
   },
   "outputs": [],
   "source": [
    "column_names = ['height','weight','is_male']\n",
    "values = [[62, 54, 60, 50], [180, 120, 200, 100], [True, False, True, False]]"
   ]
  },
  {
   "cell_type": "code",
   "execution_count": 79,
   "metadata": {
    "collapsed": false
   },
   "outputs": [
    {
     "data": {
      "text/plain": [
       "{'a': 1,\n",
       " 'b': 2,\n",
       " 'c': 3,\n",
       " 'd': 4,\n",
       " 'e': 5,\n",
       " 'f': 6,\n",
       " 'g': 7,\n",
       " 'h': 8,\n",
       " 'i': 9,\n",
       " 'j': 10,\n",
       " 'k': 11,\n",
       " 'l': 12,\n",
       " 'm': 13,\n",
       " 'n': 14,\n",
       " 'o': 15,\n",
       " 'p': 16,\n",
       " 'q': 17,\n",
       " 'r': 18,\n",
       " 's': 19,\n",
       " 't': 20,\n",
       " 'u': 21,\n",
       " 'v': 22,\n",
       " 'w': 23,\n",
       " 'x': 24,\n",
       " 'y': 25,\n",
       " 'z': 26}"
      ]
     },
     "execution_count": 79,
     "metadata": {},
     "output_type": "execute_result"
    }
   ],
   "source": [
    "{letter:i+1 for i,letter in enumerate(alphabet)}"
   ]
  }
 ],
 "metadata": {
  "anaconda-cloud": {},
  "kernelspec": {
   "display_name": "Python [default]",
   "language": "python",
   "name": "python2"
  },
  "language_info": {
   "codemirror_mode": {
    "name": "ipython",
    "version": 2
   },
   "file_extension": ".py",
   "mimetype": "text/x-python",
   "name": "python",
   "nbconvert_exporter": "python",
   "pygments_lexer": "ipython2",
   "version": "2.7.12"
  }
 },
 "nbformat": 4,
 "nbformat_minor": 0
}
